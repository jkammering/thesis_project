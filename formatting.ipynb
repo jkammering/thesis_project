{
 "cells": [
  {
   "cell_type": "code",
   "execution_count": 1,
   "metadata": {},
   "outputs": [],
   "source": [
    "import pandas as pd\n",
    "import numpy as np"
   ]
  },
  {
   "cell_type": "code",
   "execution_count": 7,
   "metadata": {},
   "outputs": [],
   "source": [
    "df = pd.read_csv('/Users/jonathankammering/Desktop/uni/sem8/bachelor_thesis/Daten/LGBTQ+_Update2_2021/GCS_data_processing/GCS_USA_2021_u2_upload.csv',header=1, sep=';')\n",
    "sed = df.columns"
   ]
  },
  {
   "cell_type": "code",
   "execution_count": 4,
   "metadata": {},
   "outputs": [],
   "source": [
    "decoding = pd.read_csv('/Users/jonathankammering/Desktop/uni/sem8/bachelor_thesis/Daten/LGBTQ+_Update2_2021/kodierungen/Upload_Labels(1).csv', sep=';',skiprows=0)\n",
    "structure = pd.read_csv('/Users/jonathankammering/Desktop/uni/sem8/bachelor_thesis/Daten/LGBTQ+_Update2_2021/kodierungen/Upload_Structure(1).csv', sep=';',skiprows=0)"
   ]
  },
  {
   "cell_type": "code",
   "execution_count": null,
   "metadata": {},
   "outputs": [],
   "source": [
    "r=0\n",
    "decoded_cols = []\n",
    "for col_name in sed:\n",
    "\tr+=1\n",
    "\tprint(str(round(r/len(sed),3)))\n",
    "\tif '#' in col_name:\n",
    "\t\tpos = col_name.find('#')\n",
    "\t\tform_col_name = col_name[:pos]\n",
    "\t\tlabel = col_name[pos+1:]\n",
    "\t\ttry:\n",
    "\t\t\tintermediate_row = structure[structure['ID']==form_col_name]\n",
    "\t\t\t#multiple choice variable:\n",
    "\t\t\tif str(intermediate_row.iloc[0,3]) == 'multiple':\n",
    "\t\t\t\tnew_row = decoding[(decoding['ID']==form_col_name) & (\n",
    "\t\t\t\t\t\t\t\t\tdecoding['CodeMP']==int(label))\n",
    "\t\t\t\t\t\t\t\t\t]\n",
    "\t\t\t\ttext_name = str(new_row.iloc[0,1])\n",
    "\t\t\t#single choice variable:\n",
    "\t\t\telif str(intermediate_row.iloc[0,3]) == 'single':\n",
    "\t\t\t\tnew_row = decoding[(decoding['ID']==form_col_name) & (\n",
    "\t\t\t\t\t\t\t\t\tdecoding['CodeSP']==int(label))\n",
    "\t\t\t\t\t\t\t\t\t]\n",
    "\t\t\t\ttext_name = str(new_row.iloc[0,1])\n",
    "\t\t#Variables with #-key standard name\n",
    "\t\texcept IndexError:\t\n",
    "\t\t\tnew_row = structure[(structure['ID']==col_name)]\n",
    "\t\t\ttext_name = str(new_row.iloc[0,1])\n",
    "\telse:\n",
    "\t\ttry:\n",
    "\t\t\tnew_row = structure[(structure['ID']==col_name)]\n",
    "\t\t\ttext_name = str(new_row.iloc[0,1])\n",
    "\t\texcept IndexError:\n",
    "\t\t\ttext_name = 'None'\n",
    "\t\t\tpass\n",
    "\tintermediate = text_name.split()\n",
    "\tif intermediate[0].isdigit():\n",
    "\t\tfinal_col_name = ' '.join(intermediate[1:])\n",
    "\t\tdecoded_cols.append(final_col_name)\n",
    "\telse:\n",
    "\t\tdecoded_cols.append(text_name)\t\t\n",
    "df.loc[-1] = decoded_cols\n",
    "# shifting index\n",
    "df.index = df.index + 1  \n",
    "# sorting by index\n",
    "df = df.sort_index()  "
   ]
  },
  {
   "cell_type": "code",
   "execution_count": 9,
   "metadata": {},
   "outputs": [],
   "source": [
    "df.to_csv('/Users/jonathankammering/Desktop/uni/sem8/bachelor_thesis/Daten/formatted_LGBTQ+_2021.nosync/USA.csv',sep=';')"
   ]
  }
 ],
 "metadata": {
  "interpreter": {
   "hash": "4aced5ce718e72773a82527d76a4950ec0b2d5526eadbd8dfe9cf0c3b2c3abe4"
  },
  "kernelspec": {
   "display_name": "Python 3.7.6 64-bit ('anaconda3': conda)",
   "name": "python3"
  },
  "language_info": {
   "codemirror_mode": {
    "name": "ipython",
    "version": 3
   },
   "file_extension": ".py",
   "mimetype": "text/x-python",
   "name": "python",
   "nbconvert_exporter": "python",
   "pygments_lexer": "ipython3",
   "version": "3.7.11"
  },
  "orig_nbformat": 4
 },
 "nbformat": 4,
 "nbformat_minor": 2
}
