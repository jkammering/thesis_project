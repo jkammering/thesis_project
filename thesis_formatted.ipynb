{
 "cells": [
  {
   "cell_type": "code",
   "execution_count": null,
   "id": "67d9c6da-4c05-461e-8fb7-cf93870843c9",
   "metadata": {
    "tags": []
   },
   "outputs": [],
   "source": [
    "import numpy as np\n",
    "from numpy.core.fromnumeric import size\n",
    "\n",
    "import pandas as pd\n",
    "\n",
    "import plotly.express as px\n",
    "import plotly.graph_objs as go\n",
    "\n",
    "import matplotlib.pyplot as plt"
   ]
  },
  {
   "cell_type": "code",
   "execution_count": null,
   "id": "93ac267b-4185-45c9-b83c-f4888e40fff2",
   "metadata": {
    "tags": []
   },
   "outputs": [],
   "source": [
    "def replace_classified_single(df: pd.Series, labeling, NaN_values):\n",
    "    #Fehlende Werte ersetzen\n",
    "    df.replace(NaN_values, np.nan, inplace=True)\n",
    "    #DF kopieren, aufsteigend sortieren\n",
    "    df = df.copy()\n",
    "    # df = df.sort_values(by=column)\n",
    "    codes = decoding.loc[decoding['ID']==labeling]\n",
    "    for i in range(0, len(codes)):\n",
    "        df.replace(codes.iloc[i,3],\n",
    "                   codes.iloc[i,1],\n",
    "                   inplace=True)\n",
    "    return df"
   ]
  },
  {
   "cell_type": "code",
   "execution_count": null,
   "id": "b2981c1b-688e-420a-a54c-16e5716d6f90",
   "metadata": {
    "tags": []
   },
   "outputs": [],
   "source": [
    "decoding = pd.read_csv('codes.csv',\n",
    "                       sep=';',\n",
    "                       skiprows=0,\n",
    "                       encoding = 'unicode_escape',\n",
    "                       dtype=object)\n",
    "\n",
    "df_korea = pd.read_csv('Data/Korea.csv',header=1, sep=';')\n",
    "df_canada = pd.read_csv('Data/Canada.csv',header=1, sep=';')\n",
    "df_china = pd.read_csv('Data/China.csv',header=1, sep=';')\n",
    "df_france = pd.read_csv('Data/France.csv',header=1, sep=';')\n",
    "df_india = pd.read_csv('Data/India.csv',header=1, sep=';')\n",
    "df_greatbritain = pd.read_csv('Data/GreatBritain.csv',header=1, sep=';')\n",
    "df_italy = pd.read_csv('Data/Italy.csv',header=1, sep=';')\n",
    "df_usa = pd.read_csv('Data/USA.csv',header=1, sep=';')\n",
    "df_germany = pd.read_csv('Data/Germany.csv',header=1, sep=';')"
   ]
  },
  {
   "cell_type": "code",
   "execution_count": null,
   "id": "61e0c74c-1799-40d5-8505-45e85fa29fa7",
   "metadata": {
    "tags": []
   },
   "outputs": [],
   "source": [
    "all_dfs = [(df_korea,'Korea'),\n",
    "        (df_canada,'Canada'),\n",
    "        (df_china,'China'),\n",
    "        (df_france,'France'),\n",
    "        (df_germany,'Germany'),\n",
    "        (df_india,'India'),\n",
    "        (df_greatbritain,'Great Britain'),\n",
    "        (df_italy,'Italy'),\n",
    "        (df_usa,'USA')]"
   ]
  },
  {
   "cell_type": "markdown",
   "id": "1f600a79-7b7e-4024-b7ca-38ee3a9ecd0e",
   "metadata": {},
   "source": [
    "# Chapter 3 - Univariate Statistics {.unnumbered}"
   ]
  },
  {
   "cell_type": "markdown",
   "id": "cdc0fe20-4f1f-45ba-8732-3c1eb95600bd",
   "metadata": {
    "tags": []
   },
   "source": [
    "## 3.1 Frequencies {.unnumbered}"
   ]
  },
  {
   "cell_type": "code",
   "execution_count": null,
   "id": "1c8d8e3d-3230-4ed4-9ca1-0c190fbe017f",
   "metadata": {
    "tags": []
   },
   "outputs": [],
   "source": [
    "#Gender distribution for Canada:\n",
    "df = df_canada['Sexual orientation']\n",
    "df.replace([999,-99,1], np.nan, inplace =True)\n",
    "df = df.copy()\n",
    "df = df.sort_values(ascending=False)\n",
    "codes = decoding.loc[decoding['ID']=='v9913d_demo_sexualorientation']\n",
    "for i in range(0, len(codes)):\n",
    "    df.replace(int(codes.iloc[i,3]),codes.iloc[i,1], inplace=True)"
   ]
  },
  {
   "cell_type": "code",
   "execution_count": null,
   "id": "a00bbd43-8d5b-478c-b4ed-718803871027",
   "metadata": {
    "tags": []
   },
   "outputs": [],
   "source": [
    "counts = df.value_counts()\n",
    "counts"
   ]
  },
  {
   "cell_type": "code",
   "execution_count": null,
   "id": "d64033db-e1df-4d10-8a0f-5bb9b2f0abb2",
   "metadata": {},
   "outputs": [],
   "source": [
    "px.bar(counts)"
   ]
  },
  {
   "cell_type": "code",
   "execution_count": null,
   "id": "4f494162-1884-4661-b2a1-d46f3367190a",
   "metadata": {},
   "outputs": [],
   "source": [
    "stacked_gen = pd.DataFrame(columns=['country',\n",
    "                    'Baby Boomer (1946-1964)',\n",
    "                    'Generation X (Baby Bust) (1965-1979)',\n",
    "                    'Millennials / Generation Y (1980-1994)',\n",
    "                    'IGen / Gen Z (1995-2012)'\n",
    "                    ])\n",
    "Nan_values = [999,998]\n",
    "for data in all_dfs:\n",
    "    print(data[1])\n",
    "    df = data[0]\n",
    "    ages = df['Age (generations)']\n",
    "    ages = ages.copy()\n",
    "    dec_ages = replace_classified_single(ages,\n",
    "                                         'v0013g_demo_generation',\n",
    "                                         Nan_values)\n",
    "    values_ages = dec_ages.value_counts().sort_index()\n",
    "    sed = values_ages.tolist()\n",
    "    sed.insert(0,data[1])\n",
    "    stacked_gen.loc[len(stacked_gen)] = sed"
   ]
  },
  {
   "cell_type": "code",
   "execution_count": null,
   "id": "0ae503a7-ee5b-4f1f-bf01-8830c0aae5f7",
   "metadata": {},
   "outputs": [],
   "source": [
    "stacked_gen.plot(kind='bar', x='country', stacked=True)\n",
    "plt.xlabel('country')\n",
    "plt.ylabel('number of participants')\n",
    "\n",
    "label_counts = [sum(row[1:]) for i, row in stacked_gen.iterrows()]\n",
    "for i in range(len(stacked_gen)):\n",
    "    plt.text(x = i-0.35,\n",
    "             y = label_counts[i]+500,\n",
    "             s = str(label_counts[i]),\n",
    "             size = 8)\n",
    "plt.show()"
   ]
  },
  {
   "cell_type": "code",
   "execution_count": null,
   "id": "62db5701-e12c-4f5a-90c9-1827a6fa49c9",
   "metadata": {},
   "outputs": [],
   "source": [
    "stacked_gen_norm = pd.DataFrame(columns=['country',\n",
    "                        'Baby Boomer (1946-1964)',\n",
    "                        'Generation X (Baby Bust) (1965-1979)',\n",
    "                        'Millennials / Generation Y (1980-1994)',\n",
    "                        'IGen / Gen Z (1995-2012)'])\n",
    "for i in range (0, len(stacked_gen)):\n",
    "    array = stacked_gen.iloc[i][1:]\n",
    "    total = array.sum()\n",
    "    stacked_gen_norm.loc[len(stacked_gen_norm)] = array.div(total)\n",
    "stacked_gen_norm['country'] = stacked_gen['country']"
   ]
  },
  {
   "cell_type": "code",
   "execution_count": null,
   "id": "49c6884d-a5a3-4a3b-966e-b4a431e80510",
   "metadata": {},
   "outputs": [],
   "source": [
    "stacked_gen_norm.plot(kind='bar', x='country', stacked=True)\n",
    "plt.xlabel('country')\n",
    "plt.ylabel('fraction of participants')\n",
    "plt.show()"
   ]
  },
  {
   "cell_type": "code",
   "execution_count": null,
   "id": "edfaf8cb-fb8b-42b7-be53-353128b08521",
   "metadata": {},
   "outputs": [],
   "source": [
    "#stacked chart of gender distribution in LGBTQ+ community\n",
    "stacked_lgbtq_norm = pd.DataFrame(columns=['country',\n",
    "                                            'Asexual',\n",
    "                                            'Bisexual',\n",
    "                                            'Homosexual',\n",
    "                                            'Pansexual',\n",
    "                                            'Queer',\n",
    "                                            'Other'])\n",
    "Nan_values = [999,-99,1]\n",
    "for data in all_dfs:\n",
    "    print(data[1])\n",
    "    df = data[0]\n",
    "    genders = df['Sexual orientation']\n",
    "    genders = genders.copy()\n",
    "    dec_genders = replace_classified_single(genders,\n",
    "                                            'v9913d_demo_sexualorientation',\n",
    "                                            Nan_values\n",
    "                                            )\n",
    "    values_genders = dec_genders.value_counts().sort_index()\n",
    "    sed = values_genders.tolist()\n",
    "    sed.insert(0,data[1])\n",
    "    stacked_lgbtq_norm.loc[len(stacked_lgbtq_norm)] = sed\n",
    "    array = stacked_lgbtq_norm.loc[len(stacked_lgbtq_norm)-1][1:]\n",
    "    total = array.sum()\n",
    "    stacked_lgbtq_norm.loc[len(stacked_lgbtq_norm)-1][1:] = array.div(total)"
   ]
  },
  {
   "cell_type": "code",
   "execution_count": null,
   "id": "9a049771-d0dd-40d3-8751-eb96149a5130",
   "metadata": {},
   "outputs": [],
   "source": [
    "stacked_lgbtq_norm.plot(kind='bar', x='country', stacked=True)\n",
    "plt.xlabel('country')\n",
    "plt.ylabel('fraction of participants')\n",
    "plt.show()"
   ]
  },
  {
   "cell_type": "code",
   "execution_count": null,
   "id": "4ef92059-f9bd-41a9-a7d4-2a11860a16ad",
   "metadata": {},
   "outputs": [],
   "source": [
    "stacked_ages = pd.DataFrame(columns=['country',\n",
    "                                    '18 - 19 years',\n",
    "                                    '20 - 24 years',\n",
    "                                    '25 - 29 years',\n",
    "                                    '30 - 34 years',\n",
    "                                    '35 - 39 years',\n",
    "                                    '40 - 44 years',\n",
    "                                    '45 - 49 years',\n",
    "                                    '50 - 54 years',\n",
    "                                    '55 - 59 years',\n",
    "                                    '60 - 64 years',\n",
    "                                    ])\n",
    "Nan_values = [999,998]\n",
    "for data in all_dfs:\n",
    "    print(data[1])\n",
    "    df = data[0]\n",
    "    ages = df['Age (5-year brackets)']\n",
    "    ages = ages.copy()\n",
    "    dec_ages = replace_classified_single(ages, 'v0013e_demo_agecat', Nan_values)\n",
    "    values_ages = dec_ages.value_counts().sort_index()\n",
    "    sed = values_ages.tolist()\n",
    "    sed.insert(0,data[1])\n",
    "    stacked_ages.loc[len(stacked_ages)] = sed"
   ]
  },
  {
   "cell_type": "code",
   "execution_count": null,
   "id": "795af9e7-420b-466e-b31b-f305cea74864",
   "metadata": {
    "tags": []
   },
   "outputs": [],
   "source": [
    "stacked_ages_norm = stacked_ages.copy()\n",
    "stacked_ages_norm = stacked_ages_norm[0:0]\n",
    "stacked_ages_norm = stacked_ages_norm.drop('country',axis= 1)\n",
    "\n",
    "for row in stacked_ages.iterrows():\n",
    "    total = row[1][1:].sum()\n",
    "    stacked_ages_norm.loc[len(stacked_ages_norm)] = row[1][1:].div(total)\n",
    "    stacked_ages_norm['country'] = stacked_ages['country']\n",
    "\n",
    "brackets = stacked_ages.columns.to_list()[1:]\n",
    "\n",
    "fig = go.Figure()\n",
    "\n",
    "fig.add_trace(go.Scatter(x=brackets, \n",
    "                        y=stacked_ages_norm.iloc[0][1:].tolist(),\n",
    "                        name='Korea',\n",
    "                        line=dict(color='lightblue',\n",
    "                        width=2)\n",
    "                        ))\n",
    "fig.add_trace(go.Scatter(x=brackets, \n",
    "                        y=stacked_ages_norm.iloc[1][1:].tolist(),\n",
    "                        name='Canada',\n",
    "                        line=dict(color='lightcyan',\n",
    "                        width=2)\n",
    "                        ))\n",
    "fig.add_trace(go.Scatter(x=brackets, \n",
    "                        y=stacked_ages_norm.iloc[2][1:].tolist(),\n",
    "                        name='China',\n",
    "                        line=dict(color='deeppink',\n",
    "                        width=2)\n",
    "                        ))\n",
    "fig.add_trace(go.Scatter(x=brackets, \n",
    "                        y=stacked_ages_norm.iloc[3][1:].tolist(),\n",
    "                        name='France',\n",
    "                        line=dict(color='lightsteelblue',\n",
    "                        width=2)\n",
    "                        ))\n",
    "fig.add_trace(go.Scatter(x=brackets, \n",
    "                        y=stacked_ages_norm.iloc[4][1:].tolist(),\n",
    "                        name='Germany',\n",
    "                        line=dict(color='lightslategray',\n",
    "                        width=2)\n",
    "                        ))\n",
    "fig.add_trace(go.Scatter(x=brackets, \n",
    "                        y=stacked_ages_norm.iloc[5][1:].tolist(),\n",
    "                        name='India',\n",
    "                        line=dict(color='rebeccapurple',\n",
    "                        width=2)\n",
    "                        ))\n",
    "fig.add_trace(go.Scatter(x=brackets, \n",
    "                        y=stacked_ages_norm.iloc[6][1:].tolist(),\n",
    "                        name='Great Britain',\n",
    "                        line=dict(color='lightpink',\n",
    "                        width=2)\n",
    "                        ))\n",
    "fig.add_trace(go.Scatter(x=brackets, \n",
    "                        y=stacked_ages_norm.iloc[7][1:].tolist(),\n",
    "                        name='Italy',\n",
    "                        line=dict(color='lightseagreen',\n",
    "                        width=2)\n",
    "                        ))\n",
    "fig.add_trace(go.Scatter(x=brackets, \n",
    "                        y=stacked_ages_norm.iloc[8][1:].tolist(),\n",
    "                        name='USA',\n",
    "                        line=dict(color='lightgreen',\n",
    "                        width=2)\n",
    "                        ))\n",
    "fig.update_layout(title='Number of sample participants by 5-year age brackets in nine countries',\n",
    "                   yaxis_title='fraction of participants',\n",
    "                   xaxis_title='Age (5-year brackets)',\n",
    "            width=880,\n",
    "            height=600)\n",
    "fig.update_yaxes(nticks=11)\n",
    "fig.show()"
   ]
  },
  {
   "cell_type": "markdown",
   "id": "83b216f2-fdbe-45af-bf8c-438339d13862",
   "metadata": {},
   "source": [
    "## 3.2 Location and Dispersion Parameters {.unnumbered}"
   ]
  },
  {
   "cell_type": "code",
   "execution_count": null,
   "id": "96905973-6c7e-4fe5-9833-2206f3b7cb24",
   "metadata": {},
   "outputs": [],
   "source": [
    "life_values_comparison = pd.DataFrame(columns=['country','non_lgbtq_mean','lgbtq_mean','delta'])\n",
    "for data in all_dfs:\n",
    "    print(data[1])\n",
    "    data[0]['tech_consumer_personality'] = 0\n",
    "    # innovative options\n",
    "    data[0]['tech_consumer_personality'] = np.where(data[0]['I like trying out innovative products'] == 1,\n",
    "                                        data[0]['tech_consumer_personality']+10,\n",
    "                                        data[0]['tech_consumer_personality']+0)\n",
    "    data[0]['tech_consumer_personality'] = np.where(data[0]['I like staying up to date with new technology'] == 1,\n",
    "                                        data[0]['tech_consumer_personality']+10,\n",
    "                                        data[0]['tech_consumer_personality']+0)\n",
    "    data[0]['tech_consumer_personality'] = np.where(data[0][\"Among my friends I'm usually the first to try out a new technology\"] == 1,\n",
    "                                        data[0]['tech_consumer_personality']+10,\n",
    "                                        data[0]['tech_consumer_personality']+0)\n",
    "    data[0]['tech_consumer_personality'] = np.where(data[0]['Always owning the latest technology is important to me'] == 1,\n",
    "                                        data[0]['tech_consumer_personality']+10,\n",
    "                                        data[0]['tech_consumer_personality']+0)\n",
    "    # traditional options:\n",
    "    data[0]['tech_consumer_personality'] = np.where(data[0]['Products that I buy have to meet the highest standards'] == 1,\n",
    "                                        data[0]['tech_consumer_personality']-20,\n",
    "                                        data[0]['tech_consumer_personality']+0)\n",
    "    data[0]['tech_consumer_personality'] = np.where(data[0]['I only buy new technology when it has proven successful'] == 1,\n",
    "                                        data[0]['tech_consumer_personality']-20,\n",
    "                                        data[0]['tech_consumer_personality']+0)\n",
    "    lgbtq_mean = data[0][data[0]['Sexual orientation'] > 1]['tech_consumer_personality'].mean()\n",
    "    non_lgbtq_mean = data[0][data[0]['Sexual orientation'] == 1]['tech_consumer_personality'].mean()\n",
    "    delta = lgbtq_mean - non_lgbtq_mean\n",
    "    sed = [data[1], round(non_lgbtq_mean,3),round(lgbtq_mean,3),round(delta,3)]\n",
    "    life_values_comparison.loc[len(life_values_comparison)] = sed"
   ]
  },
  {
   "cell_type": "code",
   "execution_count": null,
   "id": "73a23e12-6b98-4536-ba02-ca42a44a7850",
   "metadata": {},
   "outputs": [],
   "source": [
    "all_dfs[0][0]['tech_consumer_personality'].describe()"
   ]
  },
  {
   "cell_type": "code",
   "execution_count": null,
   "id": "9a46f8b2-3099-444b-a0df-b837205cc03d",
   "metadata": {},
   "outputs": [],
   "source": [
    "fig, ax = plt.subplots(figsize=(9, 4))\n",
    "\n",
    "# Remove y-axis tick marks\n",
    "ax.yaxis.set_ticks_position('none')\n",
    "# Add major gridlines in the x-axis\n",
    "ax.grid(color='grey',\n",
    "        axis='x',\n",
    "        linestyle='dotted',\n",
    "        linewidth=0.75,\n",
    "        alpha=0.75)\n",
    "# Set plot title\n",
    "ax.set_title('variable tech_consumer_personality')\n",
    "# Set species names as labels for the boxplot\n",
    "dataset = [all_dfs[0][0]['tech_consumer_personality']]\n",
    "labels = [all_dfs[0][1]]\n",
    "ax.boxplot(dataset,\n",
    "        widths = 0.5,\n",
    "        labels=labels,\n",
    "        vert=False)\n",
    "ax.set_xlabel('tech_consumer_personality')\n",
    "plt.savefig('box_plot_singlex.svg')\n",
    "plt.show()"
   ]
  },
  {
   "cell_type": "code",
   "execution_count": null,
   "id": "6a1d16fd-8c0a-481e-b932-ecf6e045f7ba",
   "metadata": {},
   "outputs": [],
   "source": [
    "korea = all_dfs[0][0]\n",
    "lgbtq_korea = korea[korea['Sexual orientation'] > 1]\n",
    "non_lgbtq_korea = korea[korea['Sexual orientation'] == 1]\n",
    "\n",
    "fig, ax = plt.subplots(figsize=(9, 4))\n",
    "# Remove y-axis tick marks\n",
    "ax.yaxis.set_ticks_position('none')\n",
    "# Add major gridlines in the x-axis\n",
    "ax.grid(color='grey',\n",
    "        axis='x',\n",
    "        linestyle='dotted',\n",
    "        linewidth=0.75,\n",
    "        alpha=0.75)\n",
    "# Set plot title\n",
    "ax.set_title('Korea tech_consumer_personality')\n",
    "# Set species names as labels for the boxplot\n",
    "dataset = [lgbtq_korea['tech_consumer_personality'],\n",
    "            non_lgbtq_korea['tech_consumer_personality']\n",
    "            ]\n",
    "labels = ['LGBTQ+', 'non-LGBTQ+']\n",
    "ax.boxplot(dataset,\n",
    "        widths = 0.6,\n",
    "        labels=labels,\n",
    "        vert=False)\n",
    "ax.set_xlabel('tech_consumer_personality')\n",
    "plt.savefig('box_plot_doublexy.svg')\n",
    "plt.show()"
   ]
  },
  {
   "cell_type": "code",
   "execution_count": null,
   "id": "6c4637fd-b1c3-4b5b-a7ea-f4c32b56331d",
   "metadata": {},
   "outputs": [],
   "source": [
    "# concatenate all df's\n",
    "frames = [df[0].set_index('Sexual orientation') for df in all_dfs \n",
    "        if ('Sexual orientation' in df[0].columns)]\n",
    "holistic = pd.concat(frames)\n",
    "holistic = holistic.copy()\n",
    "holistic.reset_index(inplace=True)"
   ]
  },
  {
   "cell_type": "code",
   "execution_count": null,
   "id": "2d40ea64-ff9a-42bc-99c7-162bab967095",
   "metadata": {},
   "outputs": [],
   "source": [
    "holistic_lgbtq = holistic1[holistic1['Sexual orientation']>1]\n",
    "holistic_non_lgbtq = holistic1[holistic1['Sexual orientation']==1]"
   ]
  },
  {
   "cell_type": "code",
   "execution_count": null,
   "id": "12eb6106-f357-4cf4-b6db-bec0889c15cd",
   "metadata": {},
   "outputs": [],
   "source": [
    "holistic_lgbtq['tech_consumer_personality'].describe()"
   ]
  },
  {
   "cell_type": "code",
   "execution_count": null,
   "id": "e3c42f1a-b576-4bce-a308-05c01b25ed16",
   "metadata": {},
   "outputs": [],
   "source": [
    "holistic_non_lgbtq['tech_consumer_personality'].describe()"
   ]
  },
  {
   "cell_type": "code",
   "execution_count": null,
   "id": "50ac7e4b-f883-4911-9560-6bdf3aa93f37",
   "metadata": {},
   "outputs": [],
   "source": [
    "from matplotlib import pyplot\n",
    "\n",
    "pyplot.hist(holistic['tech_consumer_personality'].dropna())\n",
    "plt.xlabel('tech_consumer_personality')\n",
    "plt.ylabel('count')\n",
    "plt.savefig('normal_x.svg')\n",
    "pyplot.show()"
   ]
  },
  {
   "cell_type": "code",
   "execution_count": null,
   "id": "c398e7fe-11e5-4c9d-b4d5-b0bf8aee82b3",
   "metadata": {},
   "outputs": [],
   "source": [
    "from scipy.stats import levene\n",
    "stat, p = levene(holistic_non_lgbtq['tech_consumer_personality'],\n",
    "                    holistic_lgbtq['tech_consumer_personality'])\n",
    "p"
   ]
  },
  {
   "cell_type": "code",
   "execution_count": null,
   "id": "4b0576c5-f594-4d99-9c76-6319d530c653",
   "metadata": {},
   "outputs": [],
   "source": [
    "from scipy import stats\n",
    "stats.ttest_ind(holistic_non_lgbtq['tech_consumer_personality'],\n",
    "                holistic_lgbtq['tech_consumer_personality'],\n",
    "                equal_var=False)"
   ]
  },
  {
   "cell_type": "code",
   "execution_count": null,
   "id": "3c0fa1de-1c99-4893-b81c-fc8d07b713f1",
   "metadata": {},
   "outputs": [],
   "source": [
    "group1 = holistic_lgbtq['tech_consumer_personality'].dropna()\n",
    "group2 = holistic_non_lgbtq['tech_consumer_personality'].dropna()\n",
    "delta = group1.mean()-group2.mean()\n",
    "effectsize = delta/np.std(holistic1['tech_consumer_personality'].dropna())\n",
    "round(effectsize, 5)"
   ]
  },
  {
   "cell_type": "markdown",
   "id": "cc3739e9-6a88-42c9-91b0-6e84294fe98d",
   "metadata": {},
   "source": [
    "# Chapter 4 - Bivariate Statistics {.unnumbered}"
   ]
  },
  {
   "cell_type": "markdown",
   "id": "a5ff8eac-ae20-4bf1-ac3b-252cd2d477b7",
   "metadata": {
    "tags": []
   },
   "source": [
    "## 4.1 Frequencies {.unnumbered}"
   ]
  },
  {
   "cell_type": "code",
   "execution_count": null,
   "id": "d16b292f-9866-4b88-88b1-6d399d25593a",
   "metadata": {},
   "outputs": [],
   "source": [
    "# Bivariate frequencies LGBTQ+ association\n",
    "lgbtq = pd.DataFrame(columns=['country',\n",
    "                              'lgbtq_associated',\n",
    "                              '% of pop.',\n",
    "                              'lgbtq_orientation',\n",
    "                              '% of pop.',\n",
    "                              'delta'])\n",
    "\n",
    "for data in all_dfs:\n",
    "    df = data[0]\n",
    "    df.replace([999,-99], np.nan)\n",
    "    df = df.copy()\n",
    "    country = data[1]\n",
    "    lgbtq_associated = (df['LGBTQ+ community'] < 2)\n",
    "    lgbtq_orientation = (df['Sexual orientation'] > 1)\n",
    "    assoc_count = len(df[lgbtq_associated])\n",
    "    assoc_rate = (assoc_count/len(df))*100\n",
    "    orient_count = len(df[lgbtq_orientation])\n",
    "    orient_rate = (orient_count/len(df))*100\n",
    "    delta = assoc_count - orient_count\n",
    "    sed = [country,\n",
    "           assoc_count,\n",
    "           round(assoc_rate,2),\n",
    "           orient_count,\n",
    "           round(orient_rate,2),\n",
    "           delta]\n",
    "    lgbtq.loc[len(lgbtq)] = sed\n",
    "lgbtq"
   ]
  },
  {
   "cell_type": "code",
   "execution_count": null,
   "id": "2e814021-791c-4a74-820e-5c82463cd185",
   "metadata": {},
   "outputs": [],
   "source": [
    "# Scoring-model happiness - ZIS based\n",
    "# v9995_demo_incomepersonal\n",
    "# v8880_demo_optimism\n",
    "for data in all_dfs:\n",
    "    data[0]['Personal economic situation (detailed)'].replace([998],\n",
    "                                                            np.nan,\n",
    "                                                            inplace=True)\n",
    "    data[0]['Personal economic situation (detailed)'].replace({5:1,1:5,4:2,2:4},\n",
    "                                                            inplace=True\n",
    "                                                            )\n",
    "    data[0]['View on personal future (detailed)'].replace([998],\n",
    "                                                        np.nan,\n",
    "                                                        inplace=True)\n",
    "    data[0]['View on personal future (detailed)'].replace({5:1,1:5,4:2,2:4},\n",
    "                                                        inplace=True\n",
    "                                                        )\n",
    "    future_score = 0.8*(data[0]['View on personal future (detailed)'])\n",
    "    monetary_score = 0.2*(data[0]['Personal economic situation (detailed)'])\n",
    "    data[0]['happiness_scale'] = future_score + monetary_score"
   ]
  },
  {
   "cell_type": "code",
   "execution_count": null,
   "id": "92776535-cdda-4681-a569-2bb5cb37be54",
   "metadata": {},
   "outputs": [],
   "source": [
    "# concatenate all df's\n",
    "frames = [df[0].set_index('Sexual orientation') for df in all_dfs \n",
    "        if ('Sexual orientation' in df[0].columns)]\n",
    "holistic = pd.concat(frames)\n",
    "holistic = holistic.copy()\n",
    "holistic.reset_index(inplace=True)"
   ]
  },
  {
   "cell_type": "code",
   "execution_count": null,
   "id": "f43b58ce-1dda-4352-a2ce-130c984ab065",
   "metadata": {},
   "outputs": [],
   "source": [
    "from empiricaldist import Cdf\n",
    "\n",
    "cdf_holistic = Cdf.from_seq(holistic['happiness_scale'], normalize= True)\n",
    "plt.xlabel('happiness_scale')\n",
    "plt.ylabel('CDF')\n",
    "plt.title('Step graph of CDF based on happiness_scale')\n",
    "cdf_holistic.step()\n",
    "plt.show()"
   ]
  },
  {
   "cell_type": "code",
   "execution_count": null,
   "id": "90370bb7-079c-467a-83f8-bab94e3d40a3",
   "metadata": {},
   "outputs": [],
   "source": [
    "cdf_lgbtq = Cdf.from_seq(holistic_lgbtq['happiness_scale'],\n",
    "                                        normalize= True)\n",
    "cdf_non_lgbtq = Cdf.from_seq(holistic_non_lgbtq['happiness_scale'],\n",
    "                                        normalize= True)\n",
    "plt.xlabel('happiness_scale')\n",
    "plt.ylabel('CDF')\n",
    "plt.title('CDF based on happiness_scale, separated by \"Sexual orientation\"')\n",
    "\n",
    "cdf_lgbtq.plot(label='LGBTQ+')\n",
    "cdf_non_lgbtq.plot(label='Non-LGBTQ+')\n",
    "plt.legend()\n",
    "plt.show()"
   ]
  },
  {
   "cell_type": "markdown",
   "id": "599dca25-e657-4e6e-af04-71f88d44ffde",
   "metadata": {},
   "source": [
    "## 4.2 Location and Dispersion Parameters {.unnumbered}"
   ]
  },
  {
   "cell_type": "code",
   "execution_count": null,
   "id": "37d78e62-17e3-4c73-baf7-29f471669175",
   "metadata": {},
   "outputs": [],
   "source": [
    "codes = decoding.loc[decoding['ID']=='v9990b_demo_income3deu']\n",
    "def lookup_class(cell):\n",
    "    match = pd.to_numeric(codes['CodeSP'])==int(cell)\n",
    "    labels = codes['ValueLabel'][match]\n",
    "    if labels.empty:\n",
    "        print(str(cell))\n",
    "        return 0\n",
    "    else:\n",
    "        return labels.values[0]"
   ]
  },
  {
   "cell_type": "code",
   "execution_count": null,
   "id": "aa8f89cd-df26-4316-bf73-70d29731d55a",
   "metadata": {},
   "outputs": [],
   "source": [
    "df_germany = df_germany.sort_values(by='Annual household income (in US$) - Germany')"
   ]
  },
  {
   "cell_type": "code",
   "execution_count": null,
   "id": "3d6b6fc7-c679-4f23-8d76-baee3d4d631a",
   "metadata": {},
   "outputs": [],
   "source": [
    "df_germany['Annual household income (in US$) - Germany'] = df_germany['Annual household income (in US$) - Germany'].apply(lookup_class)"
   ]
  },
  {
   "cell_type": "code",
   "execution_count": null,
   "id": "eb0d2ac4-28d9-4e83-ba1f-0735e2bf87b6",
   "metadata": {
    "tags": []
   },
   "outputs": [],
   "source": [
    "df_germany['Annual household income (in US$) - Germany'].unique()"
   ]
  },
  {
   "cell_type": "code",
   "execution_count": null,
   "id": "aab74081-aef1-4845-9c00-6319e45c2d8a",
   "metadata": {},
   "outputs": [],
   "source": [
    "values_d = df_germany['Annual household income (in US$) - Germany'].unique()\n",
    "df_germany['happiness_scale'].dropna()\n",
    "for value in values_d:\n",
    "    cut = df_germany['Annual household income (in US$) - Germany']==value\n",
    "    df_germany['happiness_scale'].dropna()\n",
    "    print(value)\n",
    "    print(df_germany['happiness_scale'][cut].describe())"
   ]
  },
  {
   "cell_type": "code",
   "execution_count": null,
   "id": "07856b79-4ab1-444d-a0be-9577cc3f45c7",
   "metadata": {},
   "outputs": [],
   "source": [
    "fig = px.box(df_germany,\n",
    "            x='Annual household income (in US$) - Germany',\n",
    "            y='happiness_scale',\n",
    "            title='grouped box plot of salary and happiness_scale',\n",
    "            width=980,\n",
    "            height=700)\n",
    "\n",
    "fig.update_xaxes(tickfont_size=14)\n",
    "fig.update_yaxes(tickfont_size=14)\n",
    "fig.show()"
   ]
  },
  {
   "cell_type": "code",
   "execution_count": null,
   "id": "930c53c8-b903-4ee3-925e-59d7aad32e2e",
   "metadata": {},
   "outputs": [],
   "source": [
    "all_dfs[4][0]['Annual household income (in US$) - Germany'].replace([999],\n",
    "                                                                np.nan,\n",
    "                                                                inplace=True)\n",
    "all_dfs[4][0]['happiness_scale'].replace([999],\n",
    "                                         np.nan,\n",
    "                                         inplace=True)\n",
    "all_dfs[4][0]['happiness_scale']=np.where(all_dfs[4][0]['happiness_scale']<2,\n",
    "                                            np.nan,\n",
    "                                            all_dfs[4][0]['happiness_scale']+0)\n",
    "all_dfs[4][0]['happiness_scale']=np.where(all_dfs[4][0]['happiness_scale']>4.5,\n",
    "                                            np.nan,\n",
    "                                            all_dfs[4][0]['happiness_scale']+0)"
   ]
  },
  {
   "cell_type": "code",
   "execution_count": null,
   "id": "431bccef-25ff-4cc5-910b-ff733f7f4eec",
   "metadata": {},
   "outputs": [],
   "source": [
    "import scipy\n",
    "from scipy import signal\n",
    "\n",
    "income_ger = all_dfs[4][0]['Annual household income (in US$) - Germany']\n",
    "happiness_ger = all_dfs[4][0]['happiness_scale']\n",
    "scipy.stats.spearmanr(income_ger,\n",
    "                    happiness_ger,\n",
    "                    nan_policy='omit')"
   ]
  },
  {
   "cell_type": "markdown",
   "id": "065ea752-ef12-4fa9-8066-b45131a2790a",
   "metadata": {},
   "source": [
    "## 4.3 Regressions {.unnumbered}"
   ]
  },
  {
   "cell_type": "code",
   "execution_count": null,
   "id": "f83b35e9-9f98-46d0-b571-9278312bc1e3",
   "metadata": {
    "tags": []
   },
   "outputs": [],
   "source": [
    "happiness_scale = holistic['happiness_scale'].replace(np.nan,\n",
    "                                holistic['happiness_scale'].mean())\n",
    "tech_consumer_personality = holistic[\n",
    "                'tech_consumer_personality'].replace(\n",
    "                np.nan,holistic['tech_consumer_personality'].mean())\n",
    "print(happiness_scale.describe())\n",
    "print(tech_consumer_personality.describe())"
   ]
  },
  {
   "cell_type": "code",
   "execution_count": null,
   "id": "773374b4-7fa0-40ec-b74b-351f36107555",
   "metadata": {},
   "outputs": [],
   "source": [
    "plt.plot(tech_consumer_personality,\n",
    "         happiness_scale,\n",
    "         'o',\n",
    "         markersize=3,\n",
    "         alpha=0.01)\n",
    "plt.xlabel('tech_consumer_personality')\n",
    "plt.ylabel('happiness_scale')"
   ]
  },
  {
   "cell_type": "code",
   "execution_count": null,
   "id": "bac31b33-375e-4548-b7f5-6e0f8a6f0ead",
   "metadata": {},
   "outputs": [],
   "source": [
    "from scipy.stats import linregress\n",
    "res = linregress(happiness_scale, tech_consumer_personality)\n",
    "res"
   ]
  },
  {
   "cell_type": "code",
   "execution_count": null,
   "id": "89c1cde4-9139-434d-bcd2-ccf5be8581c6",
   "metadata": {},
   "outputs": [],
   "source": [
    "fx = np.array([happiness_scale.min(),\n",
    "               happiness_scale.max()])\n",
    "fy= res.intercept + (res.slope * fx)\n",
    "plt.plot(fx, fy, '-')\n",
    "plt.show()"
   ]
  },
  {
   "cell_type": "code",
   "execution_count": null,
   "id": "db87d947-0c64-4ac2-9ad1-1158f65c7cd6",
   "metadata": {},
   "outputs": [],
   "source": [
    "fx = np.array([tech_consumer_personality.min(),\n",
    "               tech_consumer_personality.max()])\n",
    "fy= res.intercept + (res.slope * fx)\n",
    "plt.plot(fx, fy, '-')\n",
    "plt.show()"
   ]
  },
  {
   "cell_type": "code",
   "execution_count": null,
   "id": "95dded1a-3910-4f12-a799-06a83d44a30c",
   "metadata": {},
   "outputs": [],
   "source": [
    "happiness_scale.describe()"
   ]
  },
  {
   "cell_type": "code",
   "execution_count": null,
   "id": "8d129361-da2d-4f10-a14d-5610bf154327",
   "metadata": {},
   "outputs": [],
   "source": [
    "tech_consumer_personality.describe()"
   ]
  },
  {
   "cell_type": "code",
   "execution_count": null,
   "id": "91c0c1e7-50d7-4201-a564-5f8e02f62783",
   "metadata": {},
   "outputs": [],
   "source": [
    "from scipy import stats\n",
    "stats.pearsonr(happiness_scale, tech_consumer_personality)"
   ]
  },
  {
   "cell_type": "code",
   "execution_count": null,
   "id": "1b22d62c-70fb-45a7-bcb6-3b313fd78d49",
   "metadata": {},
   "outputs": [],
   "source": [
    "print(f\"R-squared: {res.rvalue**2:.6f}\")"
   ]
  },
  {
   "cell_type": "markdown",
   "id": "01fce33e-8a83-4fb0-80d4-45be14eeaa70",
   "metadata": {},
   "source": [
    "### _Source: Own_ {.unnumbered}"
   ]
  }
 ],
 "metadata": {
  "kernelspec": {
   "display_name": "Python 3.7.10 64-bit ('doocs': conda)",
   "language": "python",
   "name": "python371064bitdoocscondab4780927bf7f4862bce8b431a2517cb5"
  },
  "language_info": {
   "codemirror_mode": {
    "name": "ipython",
    "version": 3
   },
   "file_extension": ".py",
   "mimetype": "text/x-python",
   "name": "python",
   "nbconvert_exporter": "python",
   "pygments_lexer": "ipython3",
   "version": "3.7.10"
  },
  "toc-autonumbering": false,
  "toc-showcode": false,
  "toc-showmarkdowntxt": false,
  "toc-showtags": false
 },
 "nbformat": 4,
 "nbformat_minor": 5
}
